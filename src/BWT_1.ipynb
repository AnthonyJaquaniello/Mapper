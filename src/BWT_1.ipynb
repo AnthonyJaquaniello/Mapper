{
 "cells": [
  {
   "cell_type": "markdown",
   "metadata": {},
   "source": [
    "## Création d'un Mapper par application de la transformée de Burrow-Wheeler"
   ]
  },
  {
   "cell_type": "markdown",
   "metadata": {},
   "source": [
    "### 1) Génération des permutations et tri"
   ]
  },
  {
   "cell_type": "markdown",
   "metadata": {},
   "source": [
    "A partir d'une séquence (à laquelle nous avons ajouté le symbole dollar), nous allons générer toutes les permutations possibles en décalant le dollar (plus petit caractère) de une position vers la droite."
   ]
  },
  {
   "cell_type": "code",
   "execution_count": 143,
   "metadata": {},
   "outputs": [],
   "source": [
    "def permutator(seq):\n",
    "    permutations = []\n",
    "    permutations.append(list(seq))\n",
    "    for i in range(1, len(seq)):\n",
    "        seq = seq[-1] + seq[:-1]\n",
    "        permutations.append(list(seq))\n",
    "    return permutations\n",
    "\n",
    "tri = lambda permut: sorted(permut)"
   ]
  },
  {
   "cell_type": "code",
   "execution_count": 137,
   "metadata": {},
   "outputs": [],
   "source": [
    "seq = \"$CAATGCAA\"\n",
    "permutations = permutator(seq)"
   ]
  },
  {
   "cell_type": "markdown",
   "metadata": {},
   "source": [
    "Les permutations doivent ensuites êtres triées par ordre alphabétique."
   ]
  },
  {
   "cell_type": "code",
   "execution_count": 140,
   "metadata": {},
   "outputs": [
    {
     "data": {
      "text/plain": [
       "[['$', 'C', 'A', 'A', 'T', 'G', 'C', 'A', 'A'],\n",
       " ['A', '$', 'C', 'A', 'A', 'T', 'G', 'C', 'A'],\n",
       " ['A', 'A', '$', 'C', 'A', 'A', 'T', 'G', 'C'],\n",
       " ['A', 'A', 'T', 'G', 'C', 'A', 'A', '$', 'C'],\n",
       " ['A', 'T', 'G', 'C', 'A', 'A', '$', 'C', 'A'],\n",
       " ['C', 'A', 'A', '$', 'C', 'A', 'A', 'T', 'G'],\n",
       " ['C', 'A', 'A', 'T', 'G', 'C', 'A', 'A', '$'],\n",
       " ['G', 'C', 'A', 'A', '$', 'C', 'A', 'A', 'T'],\n",
       " ['T', 'G', 'C', 'A', 'A', '$', 'C', 'A', 'A']]"
      ]
     },
     "execution_count": 140,
     "metadata": {},
     "output_type": "execute_result"
    }
   ],
   "source": [
    "permutations = tri(permutations)\n",
    "permutations"
   ]
  },
  {
   "cell_type": "markdown",
   "metadata": {},
   "source": [
    "### 2) Récupération des caractéristiques"
   ]
  },
  {
   "cell_type": "markdown",
   "metadata": {},
   "source": [
    "Trois caractéristiques nous intéressent: la première colonne, la dernière colonne, et la position du dollar dans chacune des permutations."
   ]
  },
  {
   "cell_type": "code",
   "execution_count": 148,
   "metadata": {},
   "outputs": [],
   "source": [
    "def dollar_pos(permutation_matrix):\n",
    "    pos = []\n",
    "    for permutation in permutation_matrix:\n",
    "        pos.append(permutation.index(\"$\"))\n",
    "    return pos\n",
    "\n",
    "def first_col(permutation_matrix):\n",
    "    col = []\n",
    "    for permutation in permutation_matrix:\n",
    "        col.append(permutation[0])\n",
    "    return col\n",
    "\n",
    "def last_col(permutation_matrix):\n",
    "    col = []\n",
    "    for permutation in permutation_matrix:\n",
    "        col.append(permutation[-1])\n",
    "    return col"
   ]
  },
  {
   "cell_type": "code",
   "execution_count": 145,
   "metadata": {},
   "outputs": [
    {
     "name": "stdout",
     "output_type": "stream",
     "text": [
      "[0, 1, 2, 7, 6, 3, 8, 4, 5]\n",
      "['$', 'A', 'A', 'A', 'A', 'C', 'C', 'G', 'T']\n",
      "['A', 'A', 'C', 'C', 'A', 'G', '$', 'T', 'A']\n"
     ]
    }
   ],
   "source": [
    "dollar = dollar_pos(permutations)\n",
    "print(dollar)\n",
    "first = first_col(permutations)\n",
    "print(first)\n",
    "last = last_col(permutations)\n",
    "print(last)"
   ]
  },
  {
   "cell_type": "markdown",
   "metadata": {},
   "source": [
    "### 3) Corps de l'algorithme"
   ]
  },
  {
   "cell_type": "markdown",
   "metadata": {},
   "source": [
    "Dans un premier temps nous voulons générer une liste de doublet où le premier élément est un caractère de la première colonne, et le second est la position où l'on retrouve ce caractère dans la dernière colonne."
   ]
  },
  {
   "cell_type": "code",
   "execution_count": 149,
   "metadata": {},
   "outputs": [],
   "source": [
    "from copy import deepcopy\n",
    "\n",
    "def doublet_generator(first_col, last_col):\n",
    "    all_doublet = []\n",
    "    last_col_copy = deepcopy(last_col)\n",
    "    for i in range(len(first_col)):\n",
    "        doublet = []\n",
    "        doublet.append(first_col[i])\n",
    "        doublet.append(last_col_copy.index(first_col[i]))\n",
    "        last_col_copy[last_col_copy.index(first_col[i])] = None\n",
    "        all_doublet.append(doublet)\n",
    "    return all_doublet"
   ]
  },
  {
   "cell_type": "code",
   "execution_count": 150,
   "metadata": {},
   "outputs": [],
   "source": [
    "all_doublet = doublet_generator(first, last)"
   ]
  },
  {
   "cell_type": "code",
   "execution_count": 151,
   "metadata": {},
   "outputs": [
    {
     "data": {
      "text/plain": [
       "[['$', 6],\n",
       " ['A', 0],\n",
       " ['A', 1],\n",
       " ['A', 4],\n",
       " ['A', 8],\n",
       " ['C', 2],\n",
       " ['C', 3],\n",
       " ['G', 5],\n",
       " ['T', 7]]"
      ]
     },
     "execution_count": 151,
     "metadata": {},
     "output_type": "execute_result"
    }
   ],
   "source": [
    "all_doublet"
   ]
  },
  {
   "cell_type": "markdown",
   "metadata": {},
   "source": [
    "On veut ensuite trier les doublet en fonction de leur second élement (numérique donc). Ainsi, on retombe sur la séquence de départ. C'est à ca que nous as servit la première colonne. d'ordinaire on ne garde que la dernière."
   ]
  },
  {
   "cell_type": "code",
   "execution_count": 156,
   "metadata": {},
   "outputs": [],
   "source": [
    "def reversion(liste):   \n",
    "    seq = []\n",
    "    flag = 0\n",
    "    for i in range(len(liste)):\n",
    "        seq.append(liste[flag][0])\n",
    "        flag = liste[flag][1]\n",
    "    return \"\".join(seq)"
   ]
  },
  {
   "cell_type": "code",
   "execution_count": 157,
   "metadata": {},
   "outputs": [
    {
     "name": "stdout",
     "output_type": "stream",
     "text": [
      "$CAATGCAA\n"
     ]
    }
   ],
   "source": [
    "revert_seq = reversion(all_doublet)\n",
    "print(revert_seq)"
   ]
  },
  {
   "cell_type": "markdown",
   "metadata": {},
   "source": [
    "Nous allons construire un index qui répértorie combien il y a de \"A\" avant le dollar de la séquence courante (dernière colonne), et faire de même pour les autres types de bases."
   ]
  },
  {
   "cell_type": "code",
   "execution_count": 166,
   "metadata": {},
   "outputs": [],
   "source": [
    "def index_generator(liste):\n",
    "    index = []\n",
    "    for i in range(len(liste)+1):\n",
    "        if i ==0:\n",
    "            d = {\"$\":0,\"A\":0,\"C\":0,\"G\":0,\"T\":0}\n",
    "        else:\n",
    "            d = {\"$\":liste[0:i].count(\"$\"),\n",
    "                 \"A\":liste[0:i].count(\"A\"),\n",
    "                 \"C\":liste[0:i].count(\"C\"),\n",
    "                 \"G\":liste[0:i].count(\"G\"),\n",
    "                 \"T\":liste[0:i].count(\"T\")}\n",
    "        index.append(d)\n",
    "    return index"
   ]
  },
  {
   "cell_type": "code",
   "execution_count": 170,
   "metadata": {},
   "outputs": [
    {
     "data": {
      "text/plain": [
       "[{'$': 0, 'A': 0, 'C': 0, 'G': 0, 'T': 0},\n",
       " {'$': 0, 'A': 1, 'C': 0, 'G': 0, 'T': 0},\n",
       " {'$': 0, 'A': 2, 'C': 0, 'G': 0, 'T': 0},\n",
       " {'$': 0, 'A': 2, 'C': 1, 'G': 0, 'T': 0},\n",
       " {'$': 0, 'A': 2, 'C': 2, 'G': 0, 'T': 0},\n",
       " {'$': 0, 'A': 3, 'C': 2, 'G': 0, 'T': 0},\n",
       " {'$': 0, 'A': 3, 'C': 2, 'G': 1, 'T': 0},\n",
       " {'$': 1, 'A': 3, 'C': 2, 'G': 1, 'T': 0},\n",
       " {'$': 1, 'A': 3, 'C': 2, 'G': 1, 'T': 1},\n",
       " {'$': 1, 'A': 4, 'C': 2, 'G': 1, 'T': 1}]"
      ]
     },
     "execution_count": 170,
     "metadata": {},
     "output_type": "execute_result"
    }
   ],
   "source": [
    "index = index_generator(last)\n",
    "index"
   ]
  },
  {
   "cell_type": "markdown",
   "metadata": {},
   "source": [
    "Construction d'un surindex, je ne sais pas trop pourquoi..."
   ]
  },
  {
   "cell_type": "code",
   "execution_count": 201,
   "metadata": {},
   "outputs": [],
   "source": [
    "def surindex_generator(index):\n",
    "    surindex = {\"$\":0,\"A\":0,\"C\":0,\"G\":0,\"T\":0}\n",
    "    keys = list(surindex.keys())\n",
    "    for i in range(1, len(keys)):\n",
    "        surindex[keys[i]] = surindex[keys[i-1]] + index[keys[i-1]]\n",
    "    return surindex"
   ]
  },
  {
   "cell_type": "code",
   "execution_count": 202,
   "metadata": {},
   "outputs": [
    {
     "data": {
      "text/plain": [
       "{'$': 0, 'A': 1, 'C': 5, 'G': 7, 'T': 8}"
      ]
     },
     "execution_count": 202,
     "metadata": {},
     "output_type": "execute_result"
    }
   ],
   "source": [
    "surindex = surindex_generator(index[-1])\n",
    "surindex"
   ]
  },
  {
   "cell_type": "markdown",
   "metadata": {},
   "source": [
    "Fonction finale;"
   ]
  },
  {
   "cell_type": "code",
   "execution_count": 204,
   "metadata": {},
   "outputs": [],
   "source": [
    "def final(read, surindex, index, last_col):\n",
    "    p = len(read)-1\n",
    "    carac = read[p]\n",
    "    b =  surindex[carac]\n",
    "    e = b + index[len(last_col)][carac]\n",
    "    end = []\n",
    "    while (p >0 and e > b):\n",
    "        p -= 1\n",
    "        carac = read[p]\n",
    "        b =  surindex[carac] + index[b][carac]\n",
    "        e = surindex[carac] + index[e][carac]\n",
    "    end.append(b)\n",
    "    end.append(e)\n",
    "    return end"
   ]
  },
  {
   "cell_type": "code",
   "execution_count": 207,
   "metadata": {},
   "outputs": [
    {
     "name": "stdout",
     "output_type": "stream",
     "text": [
      "[5, 7]\n"
     ]
    }
   ],
   "source": [
    "fin = final(\"CAA\",surindex, index, last)\n",
    "print(fin)"
   ]
  },
  {
   "cell_type": "markdown",
   "metadata": {},
   "source": [
    "#### <u> Nombre de hits </u>:"
   ]
  },
  {
   "cell_type": "code",
   "execution_count": 208,
   "metadata": {},
   "outputs": [
    {
     "name": "stdout",
     "output_type": "stream",
     "text": [
      "2\n"
     ]
    }
   ],
   "source": [
    "print(fin[1] - fin[0])"
   ]
  },
  {
   "cell_type": "markdown",
   "metadata": {},
   "source": [
    "#### <u>Régénération de la séquence initiale <u/>:"
   ]
  },
  {
   "cell_type": "code",
   "execution_count": 215,
   "metadata": {},
   "outputs": [
    {
     "data": {
      "text/plain": [
       "[(8, '$'),\n",
       " (7, 'C'),\n",
       " (6, 'A'),\n",
       " (5, 'A'),\n",
       " (4, 'T'),\n",
       " (3, 'G'),\n",
       " (2, 'C'),\n",
       " (1, 'A'),\n",
       " (0, 'A')]"
      ]
     },
     "execution_count": 215,
     "metadata": {},
     "output_type": "execute_result"
    }
   ],
   "source": [
    "appariement = list(zip(dollar, last))\n",
    "appariement = sorted(appariement, reverse = True)\n",
    "appariement"
   ]
  },
  {
   "cell_type": "code",
   "execution_count": 217,
   "metadata": {},
   "outputs": [
    {
     "name": "stdout",
     "output_type": "stream",
     "text": [
      "CAATGCAA\n"
     ]
    }
   ],
   "source": [
    "seq_initiale = []\n",
    "for tuples in appariement:\n",
    "    caract = tuples[1]\n",
    "    seq_initiale.append(caract)\n",
    "seq_initiale.remove(\"$\")\n",
    "seq_initiale = \"\".join(seq_initiale)\n",
    "\n",
    "print(seq_initiale)"
   ]
  },
  {
   "cell_type": "code",
   "execution_count": null,
   "metadata": {},
   "outputs": [],
   "source": []
  },
  {
   "cell_type": "code",
   "execution_count": null,
   "metadata": {},
   "outputs": [],
   "source": []
  }
 ],
 "metadata": {
  "kernelspec": {
   "display_name": "Python 3",
   "language": "python",
   "name": "python3"
  },
  "language_info": {
   "codemirror_mode": {
    "name": "ipython",
    "version": 3
   },
   "file_extension": ".py",
   "mimetype": "text/x-python",
   "name": "python",
   "nbconvert_exporter": "python",
   "pygments_lexer": "ipython3",
   "version": "3.7.4"
  }
 },
 "nbformat": 4,
 "nbformat_minor": 4
}
